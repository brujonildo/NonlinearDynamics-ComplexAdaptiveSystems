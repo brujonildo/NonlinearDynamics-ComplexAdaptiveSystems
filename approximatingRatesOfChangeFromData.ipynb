{
 "cells": [
  {
   "cell_type": "markdown",
   "metadata": {},
   "source": [
    "# Calculating rates of change from data\n",
    "#### Marco Arieli Herrera-Valdez\n",
    "##### Laboratory of quantitative imaging and physiology \n",
    "##### Facultad de Ciencias, Universidad Nacional Autónoma de México\n",
    "\n",
    "Consider an experimental paradigm in which a variable $y$ is experimentally obtained and it varies as a function of $x$, which is manipulated experimentally. The lines below show how to calculate the rate of change of $y$ as a function of $x$. The role of experimental noise is illustrated."
   ]
  },
  {
   "cell_type": "code",
   "execution_count": 1,
   "metadata": {
    "collapsed": true
   },
   "outputs": [],
   "source": [
    "import scipy as sc\n",
    "import matplotlib.pylab as gr\n",
    "%matplotlib inline"
   ]
  },
  {
   "cell_type": "markdown",
   "metadata": {},
   "source": [
    "Now let us create a data set with some normally distributed noise that will represent data sets obtained experimentally from varying, for instance, the amount of $x$ and measuring the resulting $y$."
   ]
  },
  {
   "cell_type": "code",
   "execution_count": 2,
   "metadata": {
    "collapsed": false
   },
   "outputs": [
    {
     "data": {
      "text/plain": [
       "<matplotlib.legend.Legend at 0x10648cf60>"
      ]
     },
     "execution_count": 2,
     "metadata": {},
     "output_type": "execute_result"
    },
    {
     "data": {
      "image/png": "[encoded data removed]",
      "text/plain": [
       "<matplotlib.figure.Figure at 0x105b88e80>"
      ]
     },
     "metadata": {},
     "output_type": "display_data"
    }
   ],
   "source": [
    "# x and noise\n",
    "x= sc.arange(0,1, 0.05)\n",
    "noiseAmp= 0.025;\n",
    "noise = noiseAmp * sc.randn(len(x))\n",
    "# Functional form for y\n",
    "k= 15.0; a=0.5; \n",
    "y = 1/(1+ sc.exp(k*(a-x)))\n",
    "yN = noise + 1/(1+ sc.exp(k*(a-x)))\n",
    "#\n",
    "gr.plot(x,yN,'b.',label=r\"$(x,y)$\")\n",
    "gr.plot(x,y,'g')\n",
    "gr.legend(loc=\"upper left\",fontsize=16)"
   ]
  },
  {
   "cell_type": "markdown",
   "metadata": {},
   "source": [
    "## Approximation for the derivative and inflection points\n",
    "To analyze the rate of change of $y$ with respect to $x$ and examine the shape of the curve describing the graph of $y$ as a function of $x$, it is necesary to calculate approximations of the derivatives $\\partial_x y$ and $\\partial_x^2 y$. To do so, let us define two arrays in which we can store the calculated rates of change."
   ]
  },
  {
   "cell_type": "markdown",
   "metadata": {},
   "source": [
    "### The rate of change of $y$ with respect to $x$\n",
    "The data representing the relationship between $x$ and $y$ is an array of points of the form $(x_i,y_i)$, $i\\in \\left\\{0,...,n-1\\right\\}$. For a first approach, let $h_i= x_{i+1}-x_i$. Then the slopes $s_i$ of the secant lines at each pair of points can be approximated by letting\n",
    "\\begin{eqnarray}\n",
    "\\partial_x y \\approx s_i \n",
    "&=& \n",
    "\\frac{y_{i+1}-y_{i}}{x_{i+1}-x_{i}}\n",
    "\\end{eqnarray}\n",
    "\n",
    "\n",
    "### Approximations for data sets with \"large enough\" samples\n",
    "Let us build an approximation to the derivative by averaging the upper and lower slopes of the secant lines around each point. That is, averaging\n",
    "\\begin{eqnarray}\n",
    "\\partial_x y \n",
    "\\approx& =& \\frac{s_{i+1}+s_i}{2}\n",
    "\\\\\n",
    "&=&\n",
    "\\frac{1}{2}\\left( \\frac{y_{i+1}-y_{i}}{x_{i+1}-x_{i}} + \\frac{y_i-y_{i-1}}{x_{i}-x_{i-1}} \\right)\n",
    "\\end{eqnarray}\n"
   ]
  },
  {
   "cell_type": "code",
   "execution_count": 3,
   "metadata": {
    "collapsed": false
   },
   "outputs": [],
   "source": [
    "# Define a function to calculate the slopes of secant lines for the graph of y as a function of x\n",
    "def secantSlope(x,y,side=\"left\"):\n",
    "    \"\"\"\n",
    "    Function to calculate the slopes of secant lines for the graph of y as a function of x\n",
    "\n",
    "    \"\"\"\n",
    "    s = sc.zeros(len(y)) \n",
    "    if side==\"left\":\n",
    "        s[1:] = (y[1:]-y[:-1])/(x[1:]-x[:-1])\n",
    "        s[0] = (y[1]-y[0])/(x[1]-x[0])\n",
    "    if side==\"right\":\n",
    "        s[:-1] = (y[1:]-y[:-1])/(x[1:]-x[:-1])\n",
    "        s[0] = (y[-1]-y[-2])/(x[-1]-x[-2])\n",
    "    return s\n"
   ]
  },
  {
   "cell_type": "markdown",
   "metadata": {},
   "source": [
    "Now use the function that calculates the slope of the secant line (defined above) and calculate different approximations for the derivatives."
   ]
  },
  {
   "cell_type": "code",
   "execution_count": 4,
   "metadata": {
    "collapsed": false
   },
   "outputs": [
    {
     "name": "stdout",
     "output_type": "stream",
     "text": [
      "[-0.4428451   0.09587346  0.40108478 -0.37998158 -0.41757213  0.39568925\n",
      "  0.94417285  1.78201519  2.4320911   3.25481393  3.7547781   3.12229179\n",
      "  2.19186306  1.35289374  0.65172863 -0.08040229 -0.05949036  0.53381356\n",
      "  0.05621862 -0.28248874]\n"
     ]
    }
   ],
   "source": [
    "# Setup the arrays for dy\n",
    "sL = secantSlope(x,y,side=\"left\")\n",
    "sLN = secantSlope(x,yN,side=\"left\")\n",
    "sR = secantSlope(x,y,side=\"right\")\n",
    "sRN = secantSlope(x,yN,side=\"right\")\n",
    "# Central approximations for the derivatives\n",
    "dy = (sL+sR)/2.0\n",
    "dyN = (sLN+sRN)/2.0\n",
    "print(dyN)"
   ]
  },
  {
   "cell_type": "markdown",
   "metadata": {},
   "source": [
    "Now let us illustrate the variations in the central approximation to $\\partial_x y$ introduced by noise. The continuous curves illustrate the behaviour of the derivative in the absence of noise. The dashed curves show the behaviour of the derivative with noise. "
   ]
  },
  {
   "cell_type": "code",
   "execution_count": 5,
   "metadata": {
    "collapsed": false
   },
   "outputs": [
    {
     "data": {
      "image/png": "[encoded data removed]",
      "text/plain": [
       "<matplotlib.figure.Figure at 0x106567b00>"
      ]
     },
     "metadata": {},
     "output_type": "display_data"
    }
   ],
   "source": [
    "f= gr.figure(figsize=(13,5)); gr.ioff()\n",
    "ax=list(); r=1; c=2;\n",
    "ax.append(f.add_subplot(r,c,1))\n",
    "ax.append(f.add_subplot(r,c,2))\n",
    "ax[0].plot(x,dyN,'wo',markeredgecolor=\"r\")\n",
    "ax[0].plot(x,dyN,'r--')\n",
    "ax[0].plot(x,dy,'r',label=r\"$(x, \\partial_x y)$\")\n",
    "ax[0].plot(x,yN,'wo',markeredgecolor=\"b\")\n",
    "ax[0].plot(x,y,'b',label=r\"$(x,y)$\")\n",
    "ax[1].plot(y,dyN,'r--')\n",
    "ax[1].plot(y,dy,'r',label=r\"$(y,\\partial_x y)$\")\n",
    "ax[1].plot(y,dyN,'wo',markeredgecolor=\"r\")\n",
    "ax[0].legend(fontsize=16,loc=\"upper left\")\n",
    "ax[1].legend(fontsize=16,loc=\"upper right\"); \n",
    "ax[0].set_ylim(dyN.min()-0.1,0.1+dyN.max())\n",
    "ax[1].set_ylim(dyN.min()-0.1,0.1+dyN.max())\n",
    "ax[1].set_xlim(y.min()-0.1,0.1+y.max())\n",
    "#ax[1].set_xlim(-0.1,0.1)\n",
    "gr.ion(); gr.draw()"
   ]
  },
  {
   "cell_type": "code",
   "execution_count": 6,
   "metadata": {
    "collapsed": false
   },
   "outputs": [
    {
     "name": "stdout",
     "output_type": "stream",
     "text": [
      "The maximum value of the derivative of y with respect to x is 3.75478\n"
     ]
    }
   ],
   "source": [
    "print(r\"The maximum value of the derivative of y with respect to x is %g\"%dyN.max())"
   ]
  },
  {
   "cell_type": "markdown",
   "metadata": {},
   "source": [
    "Changing the noise amplitude yields different values for the maximum, which can vary widely. Change the noise amplitude to check this fact."
   ]
  },
  {
   "cell_type": "markdown",
   "metadata": {},
   "source": [
    "### The second derivative and the inflection points\n",
    "The graph of $y$ as a function of $x$ seems to have an inflection point somewhere between its upper and lower branches, around the values where $y$ increases linearly. An inflection point could be found in that range by calculating an approximation to $\\partial^y_x$, the second derivative of $y$ with respect to $x$, and finding the points where that second derivative is closer to zero. To do so, we calculate approximations to the second derivative by treating the slopes of the secant lines from the data as representative points for the derivative, and using such points to  calculate the slopes of secant lines. \n",
    "\n",
    "The inflection points for $y$ would be those points for which  \n",
    "$$0=\\partial^2_x y = \\partial_x \\left( \\partial_x y \\right). $$\n",
    "That is, inflection points are such that the first derivative has a local maximum or a local minimum. \n",
    "For the data, the second-order slopes of the secant lines (slopes of secant lines from the slopes of secant lines) would almost never take the value of 0. However, we can try to estimate if there are values of $x$ for which the second-order slopes are close to zero. Another way to find inflection points, is to find the points at which the derivative has a maximum, or a minimum for the interval of interest.   "
   ]
  },
  {
   "cell_type": "code",
   "execution_count": 8,
   "metadata": {
    "collapsed": false
   },
   "outputs": [
    {
     "name": "stdout",
     "output_type": "stream",
     "text": [
      "[ 10.77437116   6.10422636 -15.62132719  -0.75181094  16.26522749\n",
      "  10.96967211  16.75684673  13.00151814  16.45445656   9.99928341\n",
      " -12.64972618 -18.6085745  -16.77938638 -14.02330225 -14.64261846\n",
      "   0.41823859  11.86607836  -9.55189875  -6.77414723]\n"
     ]
    }
   ],
   "source": [
    "# Arrays for the second derivative (\"noisy data\" and representative function)\n",
    "d2y = sc.arange(len(y))\n",
    "d2yN = sc.arange(len(yN))\n",
    "d2yN[1:]= (dyN[1:]- dyN[:-1])/(x[1:]-x[:-1])\n",
    "d2y[1:]= (dy[1:]- dy[:-1])/(x[1:]-x[:-1])\n",
    "print((dyN[1:]- dyN[:-1])/(x[1:]-x[:-1]))"
   ]
  },
  {
   "cell_type": "code",
   "execution_count": null,
   "metadata": {
    "collapsed": true
   },
   "outputs": [],
   "source": []
  }
 ],
 "metadata": {
  "kernelspec": {
   "display_name": "Python 3",
   "language": "python",
   "name": "python3"
  },
  "language_info": {
   "codemirror_mode": {
    "name": "ipython",
    "version": 3
   },
   "file_extension": ".py",
   "mimetype": "text/x-python",
   "name": "python",
   "nbconvert_exporter": "python",
   "pygments_lexer": "ipython3",
   "version": "3.5.1"
  }
 },
 "nbformat": 4,
 "nbformat_minor": 0
}
